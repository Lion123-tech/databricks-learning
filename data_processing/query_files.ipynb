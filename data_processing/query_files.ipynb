{
 "cells": [
  {
   "cell_type": "code",
   "execution_count": 0,
   "metadata": {
    "application/vnd.databricks.v1+cell": {
     "cellMetadata": {
      "byteLimit": 2048000,
      "implicitDf": true,
      "rowLimit": 10000
     },
     "inputWidgets": {},
     "nuid": "b5b3476e-8015-46bc-99ca-4de3cba823eb",
     "showTitle": false,
     "tableResultSettingsMap": {},
     "title": ""
    }
   },
   "outputs": [],
   "source": [
    "%sql select *,_metadata.file_path from csv.`/Volumes/workspace/default/samples_data/names.csv`"
   ]
  },
  {
   "cell_type": "code",
   "execution_count": 0,
   "metadata": {
    "application/vnd.databricks.v1+cell": {
     "cellMetadata": {},
     "inputWidgets": {},
     "nuid": "92a712df-b6d0-4eed-ad7b-4e0712000aeb",
     "showTitle": false,
     "tableResultSettingsMap": {},
     "title": ""
    }
   },
   "outputs": [],
   "source": [
    "-- to read binary file like image\n",
    "%sql\n",
    "select * from binaryFile.``"
   ]
  },
  {
   "cell_type": "code",
   "execution_count": 0,
   "metadata": {
    "application/vnd.databricks.v1+cell": {
     "cellMetadata": {
      "byteLimit": 2048000,
      "implicitDf": true,
      "rowLimit": 10000
     },
     "inputWidgets": {},
     "nuid": "89bdeaf9-e21d-4f4c-abb8-0f553cdc1f6b",
     "showTitle": false,
     "tableResultSettingsMap": {},
     "title": ""
    }
   },
   "outputs": [],
   "source": [
    "%sql\n",
    "\n",
    "-- not delta and hence no advanatages of delta lake only CTAS store in deltalake\n",
    "create table not_delta_names\n",
    "(name string, id long)\n",
    "USING CSV\n",
    "options (\n",
    "    header = \"true\",\n",
    "    inferSchema = \"true\",\n",
    "    delimiter = \",\"\n",
    ")\n",
    "LOCATION 'dbfs:/Volumes/workspace/default/samples_data/names.csv'"
   ]
  },
  {
   "cell_type": "code",
   "execution_count": 0,
   "metadata": {
    "application/vnd.databricks.v1+cell": {
     "cellMetadata": {},
     "inputWidgets": {},
     "nuid": "daa8b1b1-a61c-4f2f-9e20-1bc32b5b3f67",
     "showTitle": false,
     "tableResultSettingsMap": {},
     "title": ""
    }
   },
   "outputs": [],
   "source": [
    "# it helps in creating extra files to be saved in cache for spark optial peformance \n",
    "spark.read.table('_sqldf').write.mode('append').format('csv').options(\"header\"=True).save('same_path')"
   ]
  },
  {
   "cell_type": "code",
   "execution_count": 0,
   "metadata": {
    "application/vnd.databricks.v1+cell": {
     "cellMetadata": {},
     "inputWidgets": {},
     "nuid": "5e1db4da-e157-4640-bb33-66b8e1a4048b",
     "showTitle": false,
     "tableResultSettingsMap": {},
     "title": ""
    }
   },
   "outputs": [],
   "source": [
    "%sql\n",
    "-- to refresh data in cache for spark\n",
    "refresh table non_delta_users"
   ]
  },
  {
   "cell_type": "code",
   "execution_count": 0,
   "metadata": {
    "application/vnd.databricks.v1+cell": {
     "cellMetadata": {},
     "inputWidgets": {},
     "nuid": "9f79e798-a48d-461e-9d07-d648fb475e5d",
     "showTitle": false,
     "tableResultSettingsMap": {},
     "title": ""
    }
   },
   "outputs": [],
   "source": [
    "%sql\n",
    "-- it is delta format but some limitations it can't parse like options we can't give what is delimitrer if ;\n",
    "create table delta\n",
    "as select * from csv.`/Volumes/workspace/default/samples_data/names.csv`"
   ]
  },
  {
   "cell_type": "code",
   "execution_count": 0,
   "metadata": {
    "application/vnd.databricks.v1+cell": {
     "cellMetadata": {
      "byteLimit": 2048000,
      "implicitDf": true,
      "rowLimit": 10000
     },
     "inputWidgets": {},
     "nuid": "59bf3693-db17-45fc-9484-c36a7b3c5a57",
     "showTitle": false,
     "tableResultSettingsMap": {},
     "title": ""
    }
   },
   "outputs": [],
   "source": [
    "%sql\n",
    "-- to resolve options first create view then use ctas \n",
    "create temp view delta_view\n",
    "using CSV\n",
    "options (\n",
    "    header = \"true\",\n",
    "    inferSchema = \"true\",\n",
    "    delimiter = \",\",\n",
    "    path = \"/Volumes/workspace/default/samples_data/names.csv\"\n",
    ");\n",
    "\n",
    "create table users_name \n",
    "as select * from delta_view"
   ]
  },
  {
   "cell_type": "code",
   "execution_count": 0,
   "metadata": {
    "application/vnd.databricks.v1+cell": {
     "cellMetadata": {
      "byteLimit": 2048000,
      "implicitDf": true,
      "rowLimit": 10000
     },
     "inputWidgets": {},
     "nuid": "db7f2e79-e4e5-4d38-a103-0c91f7b780b1",
     "showTitle": false,
     "tableResultSettingsMap": {},
     "title": ""
    }
   },
   "outputs": [],
   "source": [
    "%sql\n",
    "select * from users_name"
   ]
  },
  {
   "cell_type": "code",
   "execution_count": 0,
   "metadata": {
    "application/vnd.databricks.v1+cell": {
     "cellMetadata": {},
     "inputWidgets": {},
     "nuid": "59cb146e-e37d-4902-80c3-6f5139b99c57",
     "showTitle": false,
     "tableResultSettingsMap": {},
     "title": ""
    }
   },
   "outputs": [],
   "source": [
    "%sql\n",
    "create temp view --session is limited to one spark session ie., notebook\n",
    "create global temp view --available as it is attached and limited to cluster\n",
    "    \n",
    "create view -- persistence "
   ]
  },
  {
   "cell_type": "code",
   "execution_count": 0,
   "metadata": {
    "application/vnd.databricks.v1+cell": {
     "cellMetadata": {
      "byteLimit": 2048000,
      "implicitDf": true,
      "rowLimit": 10000
     },
     "inputWidgets": {},
     "nuid": "8b87020c-3a07-4543-bec4-f30111383d48",
     "showTitle": false,
     "tableResultSettingsMap": {},
     "title": ""
    }
   },
   "outputs": [],
   "source": [
    "%sql\n",
    "describe extended users_name"
   ]
  },
  {
   "cell_type": "code",
   "execution_count": 0,
   "metadata": {
    "application/vnd.databricks.v1+cell": {
     "cellMetadata": {},
     "inputWidgets": {},
     "nuid": "5b373478-18bb-4757-95f9-2fce5dc9db94",
     "showTitle": false,
     "tableResultSettingsMap": {},
     "title": ""
    }
   },
   "outputs": [],
   "source": [
    "%sql\n",
    "--read_files that makes it easier to query CSV files and other file formats directly, without needing to first create a temporary view.\n",
    "CREATE TABLE books\n",
    "AS SELECT * FROM read_files(\n",
    "    'Volumes/workspace/default/samples_data/books',\n",
    "    format => 'csv',\n",
    "    header => 'true',\n",
    "    delimiter => ';'\n",
    ");"
   ]
  }
 ],
 "metadata": {
  "application/vnd.databricks.v1+notebook": {
   "computePreferences": null,
   "dashboards": [],
   "environmentMetadata": {
    "base_environment": "",
    "environment_version": "3"
   },
   "inputWidgetPreferences": null,
   "language": "python",
   "notebookMetadata": {
    "mostRecentlyExecutedCommandWithImplicitDF": {
     "commandId": 8794654137688714,
     "dataframes": [
      "_sqldf"
     ]
    },
    "pythonIndentUnit": 4
   },
   "notebookName": "query_files",
   "widgets": {}
  },
  "language_info": {
   "name": "python"
  }
 },
 "nbformat": 4,
 "nbformat_minor": 0
}
